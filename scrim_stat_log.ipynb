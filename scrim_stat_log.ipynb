{
 "metadata": {
  "language_info": {
   "codemirror_mode": {
    "name": "ipython",
    "version": 3
   },
   "file_extension": ".py",
   "mimetype": "text/x-python",
   "name": "python",
   "nbconvert_exporter": "python",
   "pygments_lexer": "ipython3",
   "version": "3.7.9"
  },
  "orig_nbformat": 2,
  "kernelspec": {
   "name": "python3",
   "display_name": "Python 3.7.9 64-bit ('owl-data': conda)"
  },
  "interpreter": {
   "hash": "38e778ec9b46f150f7def600b4936b3e96b2bd9fb9bb7d407a503baa85be6239"
  }
 },
 "nbformat": 4,
 "nbformat_minor": 2,
 "cells": [
  {
   "cell_type": "code",
   "execution_count": 1,
   "source": [
    "import pandas as pd \r\n",
    "import numpy as np \r\n",
    "import glob\r\n",
    "from tqdm import tqdm\r\n",
    "from ScrimLog import *\r\n",
    "from PeriEventTimeHistogram import *"
   ],
   "outputs": [],
   "metadata": {}
  },
  {
   "cell_type": "code",
   "execution_count": 2,
   "source": [
    "# FinalStat\r\n",
    "# scrim_csv = ScrimLog().update_FinalStat_to_csv()\r\n",
    "scrim_sql = ScrimLog().update_FinalStat_to_sql()"
   ],
   "outputs": [
    {
     "output_type": "stream",
     "name": "stdout",
     "text": [
      "File Exported to scrimloganalysis: 20210814_01_BM_Blizzard World.csv\n",
      "File Exported to scrimloganalysis: 20210814_01_BM_Busan.csv\n",
      "File Exported to scrimloganalysis: 20210814_01_BM_Ilios.csv\n",
      "File Exported to scrimloganalysis: 20210814_01_BM_King's Row.csv\n",
      "File Exported to scrimloganalysis: 20210814_01_BM_Rialto.csv\n",
      "File Exported to scrimloganalysis: 20210814_02_TAL_Havana.csv\n",
      "File Exported to scrimloganalysis: 20210814_02_TAL_Lijiang Tower.csv\n",
      "File Exported to scrimloganalysis: 20210814_02_TAL_Numbani.csv\n",
      "File Exported to scrimloganalysis: 20210814_02_TAL_Oasis.csv\n",
      "File Exported to scrimloganalysis: 20210814_02_TAL_Volskaya Industries.csv\n"
     ]
    }
   ],
   "metadata": {
    "tags": []
   }
  },
  {
   "cell_type": "code",
   "execution_count": 3,
   "source": [
    "# 'Shift' Skill\r\n",
    "cooldown1 = PETH()\r\n",
    "cooldown1.set_search_condition(event_name='Cooldown1%/s', threshold=0.01)\r\n",
    "cooldown1.update_PETH_to_sql()\r\n",
    "\r\n",
    "# 'E' Skill\r\n",
    "cooldown2 = PETH()\r\n",
    "cooldown2.set_search_condition(event_name='Cooldown2%/s', threshold=0.01)\r\n",
    "cooldown2.update_PETH_to_sql()\r\n",
    "\r\n",
    "# 'Q' Skill\r\n",
    "UU = PETH()\r\n",
    "UU.set_search_condition(event_name='UltimatesUsed/s', threshold=1)\r\n",
    "UU.update_PETH_to_sql()\r\n",
    "\r\n",
    "# 'R click' Skill\r\n",
    "cooldownSecondaryFire = PETH()\r\n",
    "cooldownSecondaryFire.set_search_condition(event_name='CooldownSecondaryFire%/s', threshold=0.01)\r\n",
    "cooldownSecondaryFire.update_PETH_to_sql()\r\n",
    "\r\n",
    "# 'Ctrl' Skill\r\n",
    "cooldownCrouching = PETH()\r\n",
    "cooldownCrouching.set_search_condition(event_name='CooldownCrouching%/s', threshold=0.01)\r\n",
    "cooldownCrouching.update_PETH_to_sql()\r\n",
    "\r\n",
    "# 'FB'\r\n",
    "FB = PETH()\r\n",
    "FB.set_search_condition(event_name='FinalBlows/s', threshold=1)\r\n",
    "FB.update_PETH_to_sql()"
   ],
   "outputs": [
    {
     "output_type": "stream",
     "name": "stderr",
     "text": [
      "  0%|          | 0/10 [00:00<?, ?it/s]"
     ]
    },
    {
     "output_type": "stream",
     "name": "stdout",
     "text": [
      "SELECT * FROM finalstat WHERE `MatchId`=\"20210814_01\" AND `num_map`=1 AND `Map`=\"Blizzard World\";\n",
      "Data Exporting...\n"
     ]
    },
    {
     "output_type": "stream",
     "name": "stderr",
     "text": [
      " 10%|█         | 1/10 [01:35<14:16, 95.15s/it]"
     ]
    },
    {
     "output_type": "stream",
     "name": "stdout",
     "text": [
      "File Exported: 20210814_01_BM_Blizzard World.csv_CD1% to scrimloganalysis\n",
      "SELECT * FROM finalstat WHERE `MatchId`=\"20210814_01\" AND `num_map`=1 AND `Map`=\"Busan\";\n",
      "Data Exporting...\n"
     ]
    },
    {
     "output_type": "stream",
     "name": "stderr",
     "text": [
      " 20%|██        | 2/10 [02:09<10:15, 76.94s/it]"
     ]
    },
    {
     "output_type": "stream",
     "name": "stdout",
     "text": [
      "IntegrigyError\n",
      "SELECT * FROM finalstat WHERE `MatchId`=\"20210814_01\" AND `num_map`=1 AND `Map`=\"Ilios\";\n",
      "Data Exporting...\n"
     ]
    },
    {
     "output_type": "stream",
     "name": "stderr",
     "text": [
      " 30%|███       | 3/10 [03:59<10:07, 86.80s/it]"
     ]
    },
    {
     "output_type": "stream",
     "name": "stdout",
     "text": [
      "File Exported: 20210814_01_BM_Ilios.csv_CD1% to scrimloganalysis\n",
      "SELECT * FROM finalstat WHERE `MatchId`=\"20210814_01\" AND `num_map`=1 AND `Map`=\"King's Row\";\n",
      "Data Exporting...\n"
     ]
    },
    {
     "output_type": "stream",
     "name": "stderr",
     "text": [
      " 40%|████      | 4/10 [05:17<08:25, 84.20s/it]"
     ]
    },
    {
     "output_type": "stream",
     "name": "stdout",
     "text": [
      "File Exported: 20210814_01_BM_King's Row.csv_CD1% to scrimloganalysis\n",
      "SELECT * FROM finalstat WHERE `MatchId`=\"20210814_01\" AND `num_map`=1 AND `Map`=\"Rialto\";\n",
      "Data Exporting...\n"
     ]
    },
    {
     "output_type": "stream",
     "name": "stderr",
     "text": [
      " 50%|█████     | 5/10 [07:45<08:36, 103.31s/it]"
     ]
    },
    {
     "output_type": "stream",
     "name": "stdout",
     "text": [
      "File Exported: 20210814_01_BM_Rialto.csv_CD1% to scrimloganalysis\n",
      "SELECT * FROM finalstat WHERE `MatchId`=\"20210814_02\" AND `num_map`=1 AND `Map`=\"Havana\";\n",
      "Data Exporting...\n"
     ]
    },
    {
     "output_type": "stream",
     "name": "stderr",
     "text": [
      " 60%|██████    | 6/10 [09:02<06:22, 95.55s/it] "
     ]
    },
    {
     "output_type": "stream",
     "name": "stdout",
     "text": [
      "File Exported: 20210814_02_TAL_Havana.csv_CD1% to scrimloganalysis\n",
      "SELECT * FROM finalstat WHERE `MatchId`=\"20210814_02\" AND `num_map`=1 AND `Map`=\"Lijiang Tower\";\n",
      "Data Exporting...\n"
     ]
    },
    {
     "output_type": "stream",
     "name": "stderr",
     "text": [
      " 70%|███████   | 7/10 [09:40<03:54, 78.21s/it]"
     ]
    },
    {
     "output_type": "stream",
     "name": "stdout",
     "text": [
      "IntegrigyError\n",
      "SELECT * FROM finalstat WHERE `MatchId`=\"20210814_02\" AND `num_map`=1 AND `Map`=\"Numbani\";\n",
      "Data Exporting...\n"
     ]
    },
    {
     "output_type": "stream",
     "name": "stderr",
     "text": [
      " 80%|████████  | 8/10 [11:37<02:59, 89.71s/it]"
     ]
    },
    {
     "output_type": "stream",
     "name": "stdout",
     "text": [
      "File Exported: 20210814_02_TAL_Numbani.csv_CD1% to scrimloganalysis\n",
      "SELECT * FROM finalstat WHERE `MatchId`=\"20210814_02\" AND `num_map`=1 AND `Map`=\"Oasis\";\n",
      "Data Exporting...\n"
     ]
    },
    {
     "output_type": "stream",
     "name": "stderr",
     "text": [
      " 90%|█████████ | 9/10 [12:17<01:14, 74.80s/it]"
     ]
    },
    {
     "output_type": "stream",
     "name": "stdout",
     "text": [
      "IntegrigyError\n",
      "SELECT * FROM finalstat WHERE `MatchId`=\"20210814_02\" AND `num_map`=1 AND `Map`=\"Volskaya Industries\";\n",
      "Data Exporting...\n"
     ]
    },
    {
     "output_type": "stream",
     "name": "stderr",
     "text": [
      "100%|██████████| 10/10 [12:43<00:00, 76.39s/it]\n",
      "  0%|          | 0/10 [00:00<?, ?it/s]"
     ]
    },
    {
     "output_type": "stream",
     "name": "stdout",
     "text": [
      "IntegrigyError\n",
      "SELECT * FROM finalstat WHERE `MatchId`=\"20210814_01\" AND `num_map`=1 AND `Map`=\"Blizzard World\";\n",
      "Data Exporting...\n"
     ]
    },
    {
     "output_type": "stream",
     "name": "stderr",
     "text": [
      " 10%|█         | 1/10 [00:39<05:55, 39.48s/it]"
     ]
    },
    {
     "output_type": "stream",
     "name": "stdout",
     "text": [
      "File Exported: 20210814_01_BM_Blizzard World.csv_CD2% to scrimloganalysis\n",
      "SELECT * FROM finalstat WHERE `MatchId`=\"20210814_01\" AND `num_map`=1 AND `Map`=\"Busan\";\n",
      "Data Exporting...\n"
     ]
    },
    {
     "output_type": "stream",
     "name": "stderr",
     "text": [
      " 20%|██        | 2/10 [00:56<04:21, 32.68s/it]"
     ]
    },
    {
     "output_type": "stream",
     "name": "stdout",
     "text": [
      "IntegrigyError\n",
      "SELECT * FROM finalstat WHERE `MatchId`=\"20210814_01\" AND `num_map`=1 AND `Map`=\"Ilios\";\n",
      "Data Exporting...\n"
     ]
    },
    {
     "output_type": "stream",
     "name": "stderr",
     "text": [
      " 30%|███       | 3/10 [01:35<04:02, 34.66s/it]"
     ]
    },
    {
     "output_type": "stream",
     "name": "stdout",
     "text": [
      "File Exported: 20210814_01_BM_Ilios.csv_CD2% to scrimloganalysis\n",
      "SELECT * FROM finalstat WHERE `MatchId`=\"20210814_01\" AND `num_map`=1 AND `Map`=\"King's Row\";\n",
      "Data Exporting...\n"
     ]
    },
    {
     "output_type": "stream",
     "name": "stderr",
     "text": [
      " 40%|████      | 4/10 [02:11<03:31, 35.18s/it]"
     ]
    },
    {
     "output_type": "stream",
     "name": "stdout",
     "text": [
      "File Exported: 20210814_01_BM_King's Row.csv_CD2% to scrimloganalysis\n",
      "SELECT * FROM finalstat WHERE `MatchId`=\"20210814_01\" AND `num_map`=1 AND `Map`=\"Rialto\";\n",
      "Data Exporting...\n"
     ]
    },
    {
     "output_type": "stream",
     "name": "stderr",
     "text": [
      " 50%|█████     | 5/10 [02:38<02:43, 32.68s/it]"
     ]
    },
    {
     "output_type": "stream",
     "name": "stdout",
     "text": [
      "IntegrigyError\n",
      "SELECT * FROM finalstat WHERE `MatchId`=\"20210814_02\" AND `num_map`=1 AND `Map`=\"Havana\";\n",
      "Data Exporting...\n"
     ]
    },
    {
     "output_type": "stream",
     "name": "stderr",
     "text": [
      " 60%|██████    | 6/10 [03:03<02:00, 30.14s/it]"
     ]
    },
    {
     "output_type": "stream",
     "name": "stdout",
     "text": [
      "IntegrigyError\n",
      "SELECT * FROM finalstat WHERE `MatchId`=\"20210814_02\" AND `num_map`=1 AND `Map`=\"Lijiang Tower\";\n",
      "Data Exporting...\n"
     ]
    },
    {
     "output_type": "stream",
     "name": "stderr",
     "text": [
      " 70%|███████   | 7/10 [03:44<01:40, 33.46s/it]"
     ]
    },
    {
     "output_type": "stream",
     "name": "stdout",
     "text": [
      "File Exported: 20210814_02_TAL_Lijiang Tower.csv_CD2% to scrimloganalysis\n",
      "SELECT * FROM finalstat WHERE `MatchId`=\"20210814_02\" AND `num_map`=1 AND `Map`=\"Numbani\";\n",
      "Data Exporting...\n"
     ]
    },
    {
     "output_type": "stream",
     "name": "stderr",
     "text": [
      " 80%|████████  | 8/10 [04:50<01:26, 43.32s/it]"
     ]
    },
    {
     "output_type": "stream",
     "name": "stdout",
     "text": [
      "File Exported: 20210814_02_TAL_Numbani.csv_CD2% to scrimloganalysis\n",
      "SELECT * FROM finalstat WHERE `MatchId`=\"20210814_02\" AND `num_map`=1 AND `Map`=\"Oasis\";\n",
      "Data Exporting...\n"
     ]
    },
    {
     "output_type": "stream",
     "name": "stderr",
     "text": [
      " 90%|█████████ | 9/10 [05:34<00:43, 43.50s/it]"
     ]
    },
    {
     "output_type": "stream",
     "name": "stdout",
     "text": [
      "File Exported: 20210814_02_TAL_Oasis.csv_CD2% to scrimloganalysis\n",
      "SELECT * FROM finalstat WHERE `MatchId`=\"20210814_02\" AND `num_map`=1 AND `Map`=\"Volskaya Industries\";\n",
      "Data Exporting...\n"
     ]
    },
    {
     "output_type": "stream",
     "name": "stderr",
     "text": [
      "100%|██████████| 10/10 [05:52<00:00, 35.23s/it]\n",
      "  0%|          | 0/10 [00:00<?, ?it/s]"
     ]
    },
    {
     "output_type": "stream",
     "name": "stdout",
     "text": [
      "IntegrigyError\n",
      "SELECT * FROM finalstat WHERE `MatchId`=\"20210814_01\" AND `num_map`=1 AND `Map`=\"Blizzard World\";\n",
      "Data Exporting...\n"
     ]
    },
    {
     "output_type": "stream",
     "name": "stderr",
     "text": [
      " 10%|█         | 1/10 [00:13<01:57, 13.01s/it]"
     ]
    },
    {
     "output_type": "stream",
     "name": "stdout",
     "text": [
      "File Exported: 20210814_01_BM_Blizzard World.csv_UltU to scrimloganalysis\n",
      "SELECT * FROM finalstat WHERE `MatchId`=\"20210814_01\" AND `num_map`=1 AND `Map`=\"Busan\";\n",
      "Data Exporting...\n"
     ]
    },
    {
     "output_type": "stream",
     "name": "stderr",
     "text": [
      " 20%|██        | 2/10 [00:28<01:50, 13.77s/it]"
     ]
    },
    {
     "output_type": "stream",
     "name": "stdout",
     "text": [
      "File Exported: 20210814_01_BM_Busan.csv_UltU to scrimloganalysis\n",
      "SELECT * FROM finalstat WHERE `MatchId`=\"20210814_01\" AND `num_map`=1 AND `Map`=\"Ilios\";\n",
      "Data Exporting...\n"
     ]
    },
    {
     "output_type": "stream",
     "name": "stderr",
     "text": [
      " 30%|███       | 3/10 [00:40<01:31, 13.09s/it]"
     ]
    },
    {
     "output_type": "stream",
     "name": "stdout",
     "text": [
      "File Exported: 20210814_01_BM_Ilios.csv_UltU to scrimloganalysis\n",
      "SELECT * FROM finalstat WHERE `MatchId`=\"20210814_01\" AND `num_map`=1 AND `Map`=\"King's Row\";\n",
      "Data Exporting...\n"
     ]
    },
    {
     "output_type": "stream",
     "name": "stderr",
     "text": [
      " 40%|████      | 4/10 [00:50<01:14, 12.34s/it]"
     ]
    },
    {
     "output_type": "stream",
     "name": "stdout",
     "text": [
      "File Exported: 20210814_01_BM_King's Row.csv_UltU to scrimloganalysis\n",
      "SELECT * FROM finalstat WHERE `MatchId`=\"20210814_01\" AND `num_map`=1 AND `Map`=\"Rialto\";\n",
      "Data Exporting...\n"
     ]
    },
    {
     "output_type": "stream",
     "name": "stderr",
     "text": [
      " 50%|█████     | 5/10 [01:06<01:06, 13.26s/it]"
     ]
    },
    {
     "output_type": "stream",
     "name": "stdout",
     "text": [
      "File Exported: 20210814_01_BM_Rialto.csv_UltU to scrimloganalysis\n",
      "SELECT * FROM finalstat WHERE `MatchId`=\"20210814_02\" AND `num_map`=1 AND `Map`=\"Havana\";\n",
      "Data Exporting...\n"
     ]
    },
    {
     "output_type": "stream",
     "name": "stderr",
     "text": [
      " 60%|██████    | 6/10 [01:18<00:52, 13.15s/it]"
     ]
    },
    {
     "output_type": "stream",
     "name": "stdout",
     "text": [
      "File Exported: 20210814_02_TAL_Havana.csv_UltU to scrimloganalysis\n",
      "SELECT * FROM finalstat WHERE `MatchId`=\"20210814_02\" AND `num_map`=1 AND `Map`=\"Lijiang Tower\";\n",
      "Data Exporting...\n"
     ]
    },
    {
     "output_type": "stream",
     "name": "stderr",
     "text": [
      " 70%|███████   | 7/10 [01:29<00:37, 12.41s/it]"
     ]
    },
    {
     "output_type": "stream",
     "name": "stdout",
     "text": [
      "File Exported: 20210814_02_TAL_Lijiang Tower.csv_UltU to scrimloganalysis\n",
      "SELECT * FROM finalstat WHERE `MatchId`=\"20210814_02\" AND `num_map`=1 AND `Map`=\"Numbani\";\n",
      "Data Exporting...\n"
     ]
    },
    {
     "output_type": "stream",
     "name": "stderr",
     "text": [
      " 80%|████████  | 8/10 [01:47<00:28, 14.15s/it]"
     ]
    },
    {
     "output_type": "stream",
     "name": "stdout",
     "text": [
      "File Exported: 20210814_02_TAL_Numbani.csv_UltU to scrimloganalysis\n",
      "SELECT * FROM finalstat WHERE `MatchId`=\"20210814_02\" AND `num_map`=1 AND `Map`=\"Oasis\";\n",
      "Data Exporting...\n"
     ]
    },
    {
     "output_type": "stream",
     "name": "stderr",
     "text": [
      " 90%|█████████ | 9/10 [01:55<00:12, 12.21s/it]"
     ]
    },
    {
     "output_type": "stream",
     "name": "stdout",
     "text": [
      "IntegrigyError\n",
      "SELECT * FROM finalstat WHERE `MatchId`=\"20210814_02\" AND `num_map`=1 AND `Map`=\"Volskaya Industries\";\n",
      "Data Exporting...\n"
     ]
    },
    {
     "output_type": "stream",
     "name": "stderr",
     "text": [
      "100%|██████████| 10/10 [02:05<00:00, 12.52s/it]\n",
      "  0%|          | 0/10 [00:00<?, ?it/s]"
     ]
    },
    {
     "output_type": "stream",
     "name": "stdout",
     "text": [
      "File Exported: 20210814_02_TAL_Volskaya Industries.csv_UltU to scrimloganalysis\n",
      "SELECT * FROM finalstat WHERE `MatchId`=\"20210814_01\" AND `num_map`=1 AND `Map`=\"Blizzard World\";\n",
      "Data Exporting...\n"
     ]
    },
    {
     "output_type": "stream",
     "name": "stderr",
     "text": [
      " 10%|█         | 1/10 [00:28<04:13, 28.17s/it]"
     ]
    },
    {
     "output_type": "stream",
     "name": "stdout",
     "text": [
      "File Exported: 20210814_01_BM_Blizzard World.csv_CD2nd% to scrimloganalysis\n",
      "SELECT * FROM finalstat WHERE `MatchId`=\"20210814_01\" AND `num_map`=1 AND `Map`=\"Busan\";\n",
      "Data Exporting...\n"
     ]
    },
    {
     "output_type": "stream",
     "name": "stderr",
     "text": [
      " 20%|██        | 2/10 [01:05<04:08, 31.06s/it]"
     ]
    },
    {
     "output_type": "stream",
     "name": "stdout",
     "text": [
      "File Exported: 20210814_01_BM_Busan.csv_CD2nd% to scrimloganalysis\n",
      "SELECT * FROM finalstat WHERE `MatchId`=\"20210814_01\" AND `num_map`=1 AND `Map`=\"Ilios\";\n",
      "Data Exporting...\n"
     ]
    },
    {
     "output_type": "stream",
     "name": "stderr",
     "text": [
      " 30%|███       | 3/10 [01:34<03:31, 30.15s/it]"
     ]
    },
    {
     "output_type": "stream",
     "name": "stdout",
     "text": [
      "File Exported: 20210814_01_BM_Ilios.csv_CD2nd% to scrimloganalysis\n",
      "SELECT * FROM finalstat WHERE `MatchId`=\"20210814_01\" AND `num_map`=1 AND `Map`=\"King's Row\";\n",
      "Data Exporting...\n"
     ]
    },
    {
     "output_type": "stream",
     "name": "stderr",
     "text": [
      " 40%|████      | 4/10 [01:59<02:52, 28.68s/it]"
     ]
    },
    {
     "output_type": "stream",
     "name": "stdout",
     "text": [
      "File Exported: 20210814_01_BM_King's Row.csv_CD2nd% to scrimloganalysis\n",
      "SELECT * FROM finalstat WHERE `MatchId`=\"20210814_01\" AND `num_map`=1 AND `Map`=\"Rialto\";\n",
      "Data Exporting...\n"
     ]
    },
    {
     "output_type": "stream",
     "name": "stderr",
     "text": [
      " 50%|█████     | 5/10 [02:31<02:28, 29.60s/it]"
     ]
    },
    {
     "output_type": "stream",
     "name": "stdout",
     "text": [
      "IntegrigyError\n",
      "SELECT * FROM finalstat WHERE `MatchId`=\"20210814_02\" AND `num_map`=1 AND `Map`=\"Havana\";\n",
      "Data Exporting...\n"
     ]
    },
    {
     "output_type": "stream",
     "name": "stderr",
     "text": [
      " 60%|██████    | 6/10 [03:00<01:58, 29.69s/it]"
     ]
    },
    {
     "output_type": "stream",
     "name": "stdout",
     "text": [
      "IntegrigyError\n",
      "SELECT * FROM finalstat WHERE `MatchId`=\"20210814_02\" AND `num_map`=1 AND `Map`=\"Lijiang Tower\";\n",
      "Data Exporting...\n"
     ]
    },
    {
     "output_type": "stream",
     "name": "stderr",
     "text": [
      " 70%|███████   | 7/10 [03:55<01:51, 37.31s/it]"
     ]
    },
    {
     "output_type": "stream",
     "name": "stdout",
     "text": [
      "File Exported: 20210814_02_TAL_Lijiang Tower.csv_CD2nd% to scrimloganalysis\n",
      "SELECT * FROM finalstat WHERE `MatchId`=\"20210814_02\" AND `num_map`=1 AND `Map`=\"Numbani\";\n",
      "Data Exporting...\n"
     ]
    },
    {
     "output_type": "stream",
     "name": "stderr",
     "text": [
      " 80%|████████  | 8/10 [04:38<01:17, 38.80s/it]"
     ]
    },
    {
     "output_type": "stream",
     "name": "stdout",
     "text": [
      "File Exported: 20210814_02_TAL_Numbani.csv_CD2nd% to scrimloganalysis\n",
      "SELECT * FROM finalstat WHERE `MatchId`=\"20210814_02\" AND `num_map`=1 AND `Map`=\"Oasis\";\n",
      "Data Exporting...\n"
     ]
    },
    {
     "output_type": "stream",
     "name": "stderr",
     "text": [
      " 90%|█████████ | 9/10 [05:29<00:42, 42.59s/it]"
     ]
    },
    {
     "output_type": "stream",
     "name": "stdout",
     "text": [
      "File Exported: 20210814_02_TAL_Oasis.csv_CD2nd% to scrimloganalysis\n",
      "SELECT * FROM finalstat WHERE `MatchId`=\"20210814_02\" AND `num_map`=1 AND `Map`=\"Volskaya Industries\";\n",
      "Data Exporting...\n"
     ]
    },
    {
     "output_type": "stream",
     "name": "stderr",
     "text": [
      "100%|██████████| 10/10 [05:59<00:00, 35.96s/it]\n",
      "  0%|          | 0/10 [00:00<?, ?it/s]"
     ]
    },
    {
     "output_type": "stream",
     "name": "stdout",
     "text": [
      "File Exported: 20210814_02_TAL_Volskaya Industries.csv_CD2nd% to scrimloganalysis\n",
      "SELECT * FROM finalstat WHERE `MatchId`=\"20210814_01\" AND `num_map`=1 AND `Map`=\"Blizzard World\";\n",
      "Data Exporting...\n"
     ]
    },
    {
     "output_type": "stream",
     "name": "stderr",
     "text": [
      " 10%|█         | 1/10 [00:08<01:19,  8.87s/it]"
     ]
    },
    {
     "output_type": "stream",
     "name": "stdout",
     "text": [
      "File Exported: 20210814_01_BM_Blizzard World.csv_CDCtrl% to scrimloganalysis\n",
      "SELECT * FROM finalstat WHERE `MatchId`=\"20210814_01\" AND `num_map`=1 AND `Map`=\"Busan\";\n",
      "Data Exporting...\n"
     ]
    },
    {
     "output_type": "stream",
     "name": "stderr",
     "text": [
      " 20%|██        | 2/10 [00:15<01:04,  8.07s/it]"
     ]
    },
    {
     "output_type": "stream",
     "name": "stdout",
     "text": [
      "File Exported: 20210814_01_BM_Busan.csv_CDCtrl% to scrimloganalysis\n",
      "SELECT * FROM finalstat WHERE `MatchId`=\"20210814_01\" AND `num_map`=1 AND `Map`=\"Ilios\";\n",
      "Data Exporting...\n"
     ]
    },
    {
     "output_type": "stream",
     "name": "stderr",
     "text": [
      " 30%|███       | 3/10 [00:24<00:58,  8.39s/it]"
     ]
    },
    {
     "output_type": "stream",
     "name": "stdout",
     "text": [
      "File Exported: 20210814_01_BM_Ilios.csv_CDCtrl% to scrimloganalysis\n",
      "SELECT * FROM finalstat WHERE `MatchId`=\"20210814_01\" AND `num_map`=1 AND `Map`=\"King's Row\";\n",
      "Data Exporting...\n"
     ]
    },
    {
     "output_type": "stream",
     "name": "stderr",
     "text": [
      " 40%|████      | 4/10 [00:31<00:48,  8.05s/it]"
     ]
    },
    {
     "output_type": "stream",
     "name": "stdout",
     "text": [
      "File Exported: 20210814_01_BM_King's Row.csv_CDCtrl% to scrimloganalysis\n",
      "SELECT * FROM finalstat WHERE `MatchId`=\"20210814_01\" AND `num_map`=1 AND `Map`=\"Rialto\";\n",
      "Data Exporting...\n"
     ]
    },
    {
     "output_type": "stream",
     "name": "stderr",
     "text": [
      " 50%|█████     | 5/10 [00:39<00:40,  8.02s/it]"
     ]
    },
    {
     "output_type": "stream",
     "name": "stdout",
     "text": [
      "File Exported: 20210814_01_BM_Rialto.csv_CDCtrl% to scrimloganalysis\n",
      "SELECT * FROM finalstat WHERE `MatchId`=\"20210814_02\" AND `num_map`=1 AND `Map`=\"Havana\";\n",
      "Data Exporting...\n"
     ]
    },
    {
     "output_type": "stream",
     "name": "stderr",
     "text": [
      " 60%|██████    | 6/10 [00:43<00:27,  6.90s/it]"
     ]
    },
    {
     "output_type": "stream",
     "name": "stdout",
     "text": [
      "IntegrigyError\n",
      "SELECT * FROM finalstat WHERE `MatchId`=\"20210814_02\" AND `num_map`=1 AND `Map`=\"Lijiang Tower\";\n",
      "Data Exporting...\n"
     ]
    },
    {
     "output_type": "stream",
     "name": "stderr",
     "text": [
      " 70%|███████   | 7/10 [00:49<00:19,  6.45s/it]"
     ]
    },
    {
     "output_type": "stream",
     "name": "stdout",
     "text": [
      "File Exported: 20210814_02_TAL_Lijiang Tower.csv_CDCtrl% to scrimloganalysis\n",
      "SELECT * FROM finalstat WHERE `MatchId`=\"20210814_02\" AND `num_map`=1 AND `Map`=\"Numbani\";\n"
     ]
    },
    {
     "output_type": "stream",
     "name": "stderr",
     "text": [
      " 80%|████████  | 8/10 [00:51<00:10,  5.35s/it]"
     ]
    },
    {
     "output_type": "stream",
     "name": "stdout",
     "text": [
      "Data Exporting...\n",
      "File Exported: 20210814_02_TAL_Numbani.csv_CDCtrl% to scrimloganalysis\n",
      "SELECT * FROM finalstat WHERE `MatchId`=\"20210814_02\" AND `num_map`=1 AND `Map`=\"Oasis\";\n",
      "Data Exporting...\n"
     ]
    },
    {
     "output_type": "stream",
     "name": "stderr",
     "text": [
      " 90%|█████████ | 9/10 [00:57<00:05,  5.55s/it]"
     ]
    },
    {
     "output_type": "stream",
     "name": "stdout",
     "text": [
      "File Exported: 20210814_02_TAL_Oasis.csv_CDCtrl% to scrimloganalysis\n",
      "SELECT * FROM finalstat WHERE `MatchId`=\"20210814_02\" AND `num_map`=1 AND `Map`=\"Volskaya Industries\";\n",
      "Data Exporting...\n"
     ]
    },
    {
     "output_type": "stream",
     "name": "stderr",
     "text": [
      "100%|██████████| 10/10 [01:01<00:00,  6.15s/it]\n",
      "  0%|          | 0/10 [00:00<?, ?it/s]"
     ]
    },
    {
     "output_type": "stream",
     "name": "stdout",
     "text": [
      "File Exported: 20210814_02_TAL_Volskaya Industries.csv_CDCtrl% to scrimloganalysis\n",
      "SELECT * FROM finalstat WHERE `MatchId`=\"20210814_01\" AND `num_map`=1 AND `Map`=\"Blizzard World\";\n",
      "Data Exporting...\n"
     ]
    },
    {
     "output_type": "stream",
     "name": "stderr",
     "text": [
      " 10%|█         | 1/10 [00:19<02:51, 19.03s/it]"
     ]
    },
    {
     "output_type": "stream",
     "name": "stdout",
     "text": [
      "File Exported: 20210814_01_BM_Blizzard World.csv_FB to scrimloganalysis\n",
      "SELECT * FROM finalstat WHERE `MatchId`=\"20210814_01\" AND `num_map`=1 AND `Map`=\"Busan\";\n",
      "Data Exporting...\n"
     ]
    },
    {
     "output_type": "stream",
     "name": "stderr",
     "text": [
      " 20%|██        | 2/10 [00:27<02:07, 15.96s/it]"
     ]
    },
    {
     "output_type": "stream",
     "name": "stdout",
     "text": [
      "IntegrigyError\n",
      "SELECT * FROM finalstat WHERE `MatchId`=\"20210814_01\" AND `num_map`=1 AND `Map`=\"Ilios\";\n",
      "Data Exporting...\n"
     ]
    },
    {
     "output_type": "stream",
     "name": "stderr",
     "text": [
      " 30%|███       | 3/10 [00:45<01:54, 16.38s/it]"
     ]
    },
    {
     "output_type": "stream",
     "name": "stdout",
     "text": [
      "File Exported: 20210814_01_BM_Ilios.csv_FB to scrimloganalysis\n",
      "SELECT * FROM finalstat WHERE `MatchId`=\"20210814_01\" AND `num_map`=1 AND `Map`=\"King's Row\";\n",
      "Data Exporting...\n"
     ]
    },
    {
     "output_type": "stream",
     "name": "stderr",
     "text": [
      " 40%|████      | 4/10 [01:02<01:39, 16.64s/it]"
     ]
    },
    {
     "output_type": "stream",
     "name": "stdout",
     "text": [
      "File Exported: 20210814_01_BM_King's Row.csv_FB to scrimloganalysis\n",
      "SELECT * FROM finalstat WHERE `MatchId`=\"20210814_01\" AND `num_map`=1 AND `Map`=\"Rialto\";\n",
      "Data Exporting...\n"
     ]
    },
    {
     "output_type": "stream",
     "name": "stderr",
     "text": [
      " 50%|█████     | 5/10 [01:19<01:23, 16.76s/it]"
     ]
    },
    {
     "output_type": "stream",
     "name": "stdout",
     "text": [
      "File Exported: 20210814_01_BM_Rialto.csv_FB to scrimloganalysis\n",
      "SELECT * FROM finalstat WHERE `MatchId`=\"20210814_02\" AND `num_map`=1 AND `Map`=\"Havana\";\n",
      "Data Exporting...\n"
     ]
    },
    {
     "output_type": "stream",
     "name": "stderr",
     "text": [
      " 60%|██████    | 6/10 [01:28<00:57, 14.46s/it]"
     ]
    },
    {
     "output_type": "stream",
     "name": "stdout",
     "text": [
      "IntegrigyError\n",
      "SELECT * FROM finalstat WHERE `MatchId`=\"20210814_02\" AND `num_map`=1 AND `Map`=\"Lijiang Tower\";\n",
      "Data Exporting...\n"
     ]
    },
    {
     "output_type": "stream",
     "name": "stderr",
     "text": [
      " 70%|███████   | 7/10 [01:41<00:42, 14.07s/it]"
     ]
    },
    {
     "output_type": "stream",
     "name": "stdout",
     "text": [
      "File Exported: 20210814_02_TAL_Lijiang Tower.csv_FB to scrimloganalysis\n",
      "SELECT * FROM finalstat WHERE `MatchId`=\"20210814_02\" AND `num_map`=1 AND `Map`=\"Numbani\";\n",
      "Data Exporting...\n"
     ]
    },
    {
     "output_type": "stream",
     "name": "stderr",
     "text": [
      " 80%|████████  | 8/10 [01:58<00:29, 14.96s/it]"
     ]
    },
    {
     "output_type": "stream",
     "name": "stdout",
     "text": [
      "File Exported: 20210814_02_TAL_Numbani.csv_FB to scrimloganalysis\n",
      "SELECT * FROM finalstat WHERE `MatchId`=\"20210814_02\" AND `num_map`=1 AND `Map`=\"Oasis\";\n",
      "Data Exporting...\n"
     ]
    },
    {
     "output_type": "stream",
     "name": "stderr",
     "text": [
      " 90%|█████████ | 9/10 [02:07<00:13, 13.05s/it]"
     ]
    },
    {
     "output_type": "stream",
     "name": "stdout",
     "text": [
      "IntegrigyError\n",
      "SELECT * FROM finalstat WHERE `MatchId`=\"20210814_02\" AND `num_map`=1 AND `Map`=\"Volskaya Industries\";\n",
      "Data Exporting...\n"
     ]
    },
    {
     "output_type": "stream",
     "name": "stderr",
     "text": [
      "100%|██████████| 10/10 [02:19<00:00, 14.00s/it]"
     ]
    },
    {
     "output_type": "stream",
     "name": "stdout",
     "text": [
      "File Exported: 20210814_02_TAL_Volskaya Industries.csv_FB to scrimloganalysis\n"
     ]
    },
    {
     "output_type": "stream",
     "name": "stderr",
     "text": [
      "\n"
     ]
    }
   ],
   "metadata": {
    "tags": []
   }
  }
 ]
}