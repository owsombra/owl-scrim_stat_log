{
 "metadata": {
  "language_info": {
   "codemirror_mode": {
    "name": "ipython",
    "version": 3
   },
   "file_extension": ".py",
   "mimetype": "text/x-python",
   "name": "python",
   "nbconvert_exporter": "python",
   "pygments_lexer": "ipython3",
   "version": "3.7.9-final"
  },
  "orig_nbformat": 2,
  "kernelspec": {
   "name": "python3",
   "display_name": "Python 3.7.9 64-bit ('owl-data': conda)",
   "metadata": {
    "interpreter": {
     "hash": "38e778ec9b46f150f7def600b4936b3e96b2bd9fb9bb7d407a503baa85be6239"
    }
   }
  }
 },
 "nbformat": 4,
 "nbformat_minor": 2,
 "cells": [
  {
   "cell_type": "code",
   "execution_count": 2,
   "metadata": {},
   "outputs": [],
   "source": [
    "import pandas as pd \n",
    "import numpy as np \n",
    "from matplotlib import pyplot as plt \n",
    "import seaborn as sns \n",
    "from ScrimLog import *"
   ]
  },
  {
   "cell_type": "code",
   "execution_count": 4,
   "metadata": {
    "tags": []
   },
   "outputs": [],
   "source": [
    "def update_FinalStat(save_dir='G:/공유 드라이브/NYXL Scrim Log/FinalStat/'):\n",
    "    filepath = 'G:/공유 드라이브/NYXL Scrim Log/Csv/'\n",
    "    filelist = os.listdir(filepath)\n",
    "    csv_filelist = [x for x in filelist if x.endswith('.csv')]\n",
    "    updated_csv = 'FilesUpdated.txt'\n",
    "\n",
    "    f = open(filepath + updated_csv, 'r+')\n",
    "    lines = f.readlines()\n",
    "    updated_filelist = []\n",
    "\n",
    "    for line in lines:\n",
    "        updated_filelist.append(line.replace('\\n', ''))\n",
    "\n",
    "    csv_filelist_to_export = list(set(csv_filelist) - set(updated_filelist))\n",
    "\n",
    "    # export to csv in FinalStat folder\n",
    "    for filename in csv_filelist_to_export:\n",
    "        ScrimLog(filename).export_to_csv()\n",
    "\n",
    "        f.write(filename+'\\n')\n",
    "        print(f'File Exported: {filename}')\n",
    "\n",
    "    f.close()\n",
    "\n",
    "update_FinalStat()"
   ]
  },
  {
   "cell_type": "code",
   "execution_count": 6,
   "metadata": {},
   "outputs": [],
   "source": [
    "# df_peth_FB = PETH(df_init=df_FinalStat, event_name='FinalBlows/s', period=5)\n",
    "# df_peth_FB = df_peth_FB.get_PETH(of='Tracer').groupby(by=['MatchId', 'Map', 'Section', 'num_event', 'Timestamp', 'Team', 'Player', 'Hero']).sum()\n",
    "\n",
    "# plt.figure(figsize=(20, 10))\n",
    "# sns.lineplot(x='Timestamp', y='Cooldown1%', data=df_peth_FB, hue='Hero')\n",
    "# plt.show()\n",
    "\n",
    "# plt.figure(figsize=(20, 10))\n",
    "# sns.lineplot(x='Timestamp', y='Cooldown2%', data=df_peth_FB, hue='Hero')\n",
    "# plt.show()\n",
    "\n",
    "# plt.figure(figsize=(20, 10))\n",
    "# sns.lineplot(x='Timestamp', y='CooldownSecondaryFire%', data=df_peth_FB, hue='Hero')\n",
    "# plt.show()\n",
    "\n",
    "# plt.figure(figsize=(20, 10))\n",
    "# sns.lineplot(x='Timestamp', y='CooldownCrouching%', data=df_peth_FB, hue='Hero')\n",
    "# plt.show()"
   ]
  },
  {
   "cell_type": "code",
   "execution_count": 8,
   "metadata": {},
   "outputs": [
    {
     "output_type": "execute_result",
     "data": {
      "text/plain": [
       "\"\\nPETH 개념을 거꾸로 가져가서 몇 가지 event가 동시에 or interval 이내에 일어났을 때를 기준으로 (t=0) 'deaths/s', 'final blows/s' 등의 event 확률 histogram 보여주는 기능 추가\\n\""
      ]
     },
     "metadata": {},
     "execution_count": 8
    }
   ],
   "source": [
    "'''\n",
    "PETH 개념을 거꾸로 가져가서 몇 가지 event가 동시에 or interval 이내에 일어났을 때를 기준으로 (t=0) 'deaths/s', 'final blows/s' 등의 event 확률 histogram 보여주는 기능 추가\n",
    "'''"
   ]
  }
 ]
}