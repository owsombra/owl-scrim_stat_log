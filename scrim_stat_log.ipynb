{
 "cells": [
  {
   "cell_type": "code",
   "execution_count": 1,
   "metadata": {},
   "outputs": [],
   "source": [
    "import pandas as pd \n",
    "import numpy as np \n",
    "import glob\n",
    "from tqdm import tqdm\n",
    "from ScrimLog import *\n",
    "from PeriEventTimeHistogram import *"
   ]
  },
  {
   "cell_type": "code",
   "execution_count": null,
   "metadata": {
    "tags": []
   },
   "outputs": [],
   "source": [
    "# FinalStat\n",
    "# scrim_csv = ScrimLog().update_FinalStat_to_csv()\n",
    "teamname = 'NYE'\n",
    "scrim_sql = ScrimLog().update_FinalStat_to_sql(teamname)"
   ]
  },
  {
   "cell_type": "code",
   "execution_count": null,
   "metadata": {
    "tags": []
   },
   "outputs": [],
   "source": [
    "# 'Shift' Skill\n",
    "cooldown1 = PETH()\n",
    "cooldown1.set_search_condition(event_name='Cooldown1%/s', threshold=0.01)\n",
    "cooldown1.update_PETH_to_sql()\n",
    "\n",
    "# 'E' Skill\n",
    "cooldown2 = PETH()\n",
    "cooldown2.set_search_condition(event_name='Cooldown2%/s', threshold=0.01)\n",
    "cooldown2.update_PETH_to_sql()\n",
    "\n",
    "# 'Q' Skill\n",
    "UU = PETH()\n",
    "UU.set_search_condition(event_name='UltimatesUsed/s', threshold=1)\n",
    "UU.update_PETH_to_sql()\n",
    "\n",
    "# 'R click' Skill\n",
    "cooldownSecondaryFire = PETH()\n",
    "cooldownSecondaryFire.set_search_condition(event_name='CooldownSecondaryFire%/s', threshold=0.01)\n",
    "cooldownSecondaryFire.update_PETH_to_sql()\n",
    "\n",
    "# 'Ctrl' Skill\n",
    "cooldownCrouching = PETH()\n",
    "cooldownCrouching.set_search_condition(event_name='CooldownCrouching%/s', threshold=0.01)\n",
    "cooldownCrouching.update_PETH_to_sql()\n",
    "\n",
    "# 'FB'\n",
    "FB = PETH()\n",
    "FB.set_search_condition(event_name='FinalBlows/s', threshold=1)\n",
    "FB.update_PETH_to_sql()"
   ]
  }
 ],
 "metadata": {
  "interpreter": {
   "hash": "38e778ec9b46f150f7def600b4936b3e96b2bd9fb9bb7d407a503baa85be6239"
  },
  "kernelspec": {
   "display_name": "Python 3.7.9 64-bit ('owl-data': conda)",
   "name": "python3"
  },
  "language_info": {
   "codemirror_mode": {
    "name": "ipython",
    "version": 3
   },
   "file_extension": ".py",
   "mimetype": "text/x-python",
   "name": "python",
   "nbconvert_exporter": "python",
   "pygments_lexer": "ipython3",
   "version": "3.7.9"
  },
  "orig_nbformat": 2
 },
 "nbformat": 4,
 "nbformat_minor": 2
}
